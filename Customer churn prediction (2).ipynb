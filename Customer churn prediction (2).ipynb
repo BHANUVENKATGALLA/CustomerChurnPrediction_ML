{
 "cells": [
  {
   "cell_type": "code",
   "execution_count": 2,
   "id": "408f31a3",
   "metadata": {},
   "outputs": [],
   "source": [
    "# importing libraries\n",
    "import pandas as pd\n",
    "import numpy as np\n",
    "import matplotlib.pyplot as plt\n",
    "import seaborn as sns\n"
   ]
  },
  {
   "cell_type": "code",
   "execution_count": 3,
   "id": "ae352778",
   "metadata": {},
   "outputs": [
    {
     "name": "stdout",
     "output_type": "stream",
     "text": [
      "   id state  account_length      area_code international_plan voice_mail_plan  \\\n",
      "0   1    KS             128  area_code_415                 no             yes   \n",
      "1   2    AL             118  area_code_510                yes              no   \n",
      "2   3    IA              62  area_code_415                 no              no   \n",
      "3   4    VT              93  area_code_510                 no              no   \n",
      "4   5    NE             174  area_code_415                 no              no   \n",
      "\n",
      "   number_vmail_messages  total_day_minutes  total_day_calls  \\\n",
      "0                     25              265.1              110   \n",
      "1                      0              223.4               98   \n",
      "2                      0              120.7               70   \n",
      "3                      0              190.7              114   \n",
      "4                      0              124.3               76   \n",
      "\n",
      "   total_day_charge  total_eve_minutes  total_eve_calls  total_eve_charge  \\\n",
      "0             45.07              197.4               99             16.78   \n",
      "1             37.98              220.6              101             18.75   \n",
      "2             20.52              307.2               76             26.11   \n",
      "3             32.42              218.2              111             18.55   \n",
      "4             21.13              277.1              112             23.55   \n",
      "\n",
      "   total_night_minutes  total_night_calls  total_night_charge  \\\n",
      "0                244.7                 91               11.01   \n",
      "1                203.9                118                9.18   \n",
      "2                203.0                 99                9.14   \n",
      "3                129.6                121                5.83   \n",
      "4                250.7                115               11.28   \n",
      "\n",
      "   total_intl_minutes  total_intl_calls  total_intl_charge  \\\n",
      "0                10.0                 3               2.70   \n",
      "1                 6.3                 6               1.70   \n",
      "2                13.1                 6               3.54   \n",
      "3                 8.1                 3               2.19   \n",
      "4                15.5                 5               4.19   \n",
      "\n",
      "   number_customer_service_calls  \n",
      "0                              1  \n",
      "1                              0  \n",
      "2                              4  \n",
      "3                              3  \n",
      "4                              3  \n",
      "<class 'pandas.core.frame.DataFrame'>\n",
      "RangeIndex: 750 entries, 0 to 749\n",
      "Data columns (total 20 columns):\n",
      " #   Column                         Non-Null Count  Dtype  \n",
      "---  ------                         --------------  -----  \n",
      " 0   id                             750 non-null    int64  \n",
      " 1   state                          750 non-null    object \n",
      " 2   account_length                 750 non-null    int64  \n",
      " 3   area_code                      750 non-null    object \n",
      " 4   international_plan             750 non-null    object \n",
      " 5   voice_mail_plan                750 non-null    object \n",
      " 6   number_vmail_messages          750 non-null    int64  \n",
      " 7   total_day_minutes              750 non-null    float64\n",
      " 8   total_day_calls                750 non-null    int64  \n",
      " 9   total_day_charge               750 non-null    float64\n",
      " 10  total_eve_minutes              750 non-null    float64\n",
      " 11  total_eve_calls                750 non-null    int64  \n",
      " 12  total_eve_charge               750 non-null    float64\n",
      " 13  total_night_minutes            750 non-null    float64\n",
      " 14  total_night_calls              750 non-null    int64  \n",
      " 15  total_night_charge             750 non-null    float64\n",
      " 16  total_intl_minutes             750 non-null    float64\n",
      " 17  total_intl_calls               750 non-null    int64  \n",
      " 18  total_intl_charge              750 non-null    float64\n",
      " 19  number_customer_service_calls  750 non-null    int64  \n",
      "dtypes: float64(8), int64(8), object(4)\n",
      "memory usage: 117.3+ KB\n",
      "None\n",
      "              id  account_length  number_vmail_messages  total_day_minutes  \\\n",
      "count  750.00000      750.000000             750.000000         750.000000   \n",
      "mean   375.50000      100.385333               8.454667         180.454933   \n",
      "std    216.65064       39.699029              14.123712          53.258337   \n",
      "min      1.00000        1.000000               0.000000          12.500000   \n",
      "25%    188.25000       74.000000               0.000000         146.625000   \n",
      "50%    375.50000      101.000000               0.000000         178.200000   \n",
      "75%    562.75000      126.000000              21.000000         215.975000   \n",
      "max    750.00000      238.000000              51.000000         350.800000   \n",
      "\n",
      "       total_day_calls  total_day_charge  total_eve_minutes  total_eve_calls  \\\n",
      "count       750.000000        750.000000         750.000000       750.000000   \n",
      "mean        100.721333         30.677920         203.258267       100.273333   \n",
      "std          19.718539          9.053756          52.185471        19.367535   \n",
      "min          39.000000          2.130000          31.200000        37.000000   \n",
      "25%          88.000000         24.925000         166.800000        87.000000   \n",
      "50%         101.000000         30.295000         203.350000       101.000000   \n",
      "75%         114.000000         36.715000         235.975000       113.000000   \n",
      "max         163.000000         59.640000         363.700000       164.000000   \n",
      "\n",
      "       total_eve_charge  total_night_minutes  total_night_calls  \\\n",
      "count        750.000000           750.000000         750.000000   \n",
      "mean          17.277080           199.619467         100.370667   \n",
      "std            4.435638            51.531351          19.185238   \n",
      "min            2.650000            50.900000          12.000000   \n",
      "25%           14.177500           164.475000          88.000000   \n",
      "50%           17.285000           199.450000         100.500000   \n",
      "75%           20.057500           234.800000         113.000000   \n",
      "max           30.910000           364.300000         168.000000   \n",
      "\n",
      "       total_night_charge  total_intl_minutes  total_intl_calls  \\\n",
      "count          750.000000          750.000000        750.000000   \n",
      "mean             8.982827           10.294133          4.485333   \n",
      "std              2.318920            2.770340          2.421901   \n",
      "min              2.290000            0.000000          0.000000   \n",
      "25%              7.402500            8.525000          3.000000   \n",
      "50%              8.975000           10.300000          4.000000   \n",
      "75%             10.565000           12.100000          6.000000   \n",
      "max             16.390000           18.900000         19.000000   \n",
      "\n",
      "       total_intl_charge  number_customer_service_calls  \n",
      "count         750.000000                     750.000000  \n",
      "mean            2.779933                       1.634667  \n",
      "std             0.747704                       1.276207  \n",
      "min             0.000000                       0.000000  \n",
      "25%             2.305000                       1.000000  \n",
      "50%             2.780000                       1.000000  \n",
      "75%             3.270000                       2.000000  \n",
      "max             5.100000                       6.000000  \n"
     ]
    }
   ],
   "source": [
    "url = \"C:/test.csv\"  \n",
    "data = pd.read_csv(url)\n",
    "print(data.head())\n",
    "print(data.info())\n",
    "print(data.describe())\n"
   ]
  },
  {
   "cell_type": "code",
   "execution_count": null,
   "id": "9c633609",
   "metadata": {},
   "outputs": [],
   "source": [
    "#EDA\n",
    "# Pairplot for general overview\n",
    "sns.pairplot(data, hue='total_day_minutes')  \n",
    "# Correlation heatmap\n",
    "correlation_matrix = data.corr()\n",
    "plt.figure(figsize=(12, 8))\n",
    "sns.heatmap(correlation_matrix, annot=True, cmap='coolwarm')\n",
    "plt.title(\"Correlation Heatmap\")\n",
    "plt.show()\n",
    "\n",
    "# Distribution of Churn\n",
    "plt.figure(figsize=(6, 4))\n",
    "sns.countplot(data['total_day_minutes'])  # Assuming 'international_plan' is the churn indicator\n",
    "plt.title(\"Churn Distribution\")\n",
    "plt.show()"
   ]
  },
  {
   "cell_type": "code",
   "execution_count": null,
   "id": "52d9e91c",
   "metadata": {},
   "outputs": [],
   "source": [
    "numerical_features = ['total_day_calls', 'total_day_charge', 'total_eve_minutes']  \n",
    "for feature in numerical_features:\n",
    "    plt.figure(figsize=(6, 4))\n",
    "    sns.histplot(data[feature], kde=True)\n",
    "    plt.title(f\"Distribution of {feature}\")\n",
    "    plt.show()\n"
   ]
  },
  {
   "cell_type": "code",
   "execution_count": null,
   "id": "03dcc3e4",
   "metadata": {},
   "outputs": [],
   "source": [
    "categorical_features = ['state', 'international_plan', 'voice_mail_plan']  # Update with your features\n",
    "for feature in categorical_features:\n",
    "    plt.figure(figsize=(8, 6))\n",
    "    sns.violinplot(x=feature, y='total_eve_calls', data=data)\n",
    "    plt.title(f\"{feature} vs total_eve_calls\")\n",
    "    plt.xticks(rotation=45)\n",
    "    plt.show()\n"
   ]
  },
  {
   "cell_type": "code",
   "execution_count": 12,
   "id": "d4977a4a",
   "metadata": {},
   "outputs": [],
   "source": [
    "#preprocessing\n",
    "import pandas as pd\n",
    "columns_to_delete = ['state','area_code','international_plan','voice_mail_plan',]\n",
    "\n",
    "# Use the drop method to delete the specified columns\n",
    "data.drop(columns=columns_to_delete, inplace=True)\n"
   ]
  },
  {
   "cell_type": "code",
   "execution_count": 13,
   "id": "937f3a2d",
   "metadata": {},
   "outputs": [
    {
     "name": "stdout",
     "output_type": "stream",
     "text": [
      "<class 'pandas.core.frame.DataFrame'>\n",
      "RangeIndex: 750 entries, 0 to 749\n",
      "Data columns (total 16 columns):\n",
      " #   Column                         Non-Null Count  Dtype  \n",
      "---  ------                         --------------  -----  \n",
      " 0   id                             750 non-null    int64  \n",
      " 1   account_length                 750 non-null    int64  \n",
      " 2   number_vmail_messages          750 non-null    int64  \n",
      " 3   total_day_minutes              750 non-null    float64\n",
      " 4   total_day_calls                750 non-null    int64  \n",
      " 5   total_day_charge               750 non-null    float64\n",
      " 6   total_eve_minutes              750 non-null    float64\n",
      " 7   total_eve_calls                750 non-null    int64  \n",
      " 8   total_eve_charge               750 non-null    float64\n",
      " 9   total_night_minutes            750 non-null    float64\n",
      " 10  total_night_calls              750 non-null    int64  \n",
      " 11  total_night_charge             750 non-null    float64\n",
      " 12  total_intl_minutes             750 non-null    float64\n",
      " 13  total_intl_calls               750 non-null    int64  \n",
      " 14  total_intl_charge              750 non-null    float64\n",
      " 15  number_customer_service_calls  750 non-null    int64  \n",
      "dtypes: float64(8), int64(8)\n",
      "memory usage: 93.9 KB\n",
      "None\n"
     ]
    }
   ],
   "source": [
    "print(data.info())"
   ]
  },
  {
   "cell_type": "code",
   "execution_count": 14,
   "id": "bf215af8",
   "metadata": {},
   "outputs": [
    {
     "name": "stdout",
     "output_type": "stream",
     "text": [
      "id                               0\n",
      "account_length                   0\n",
      "number_vmail_messages            0\n",
      "total_day_minutes                0\n",
      "total_day_calls                  0\n",
      "total_day_charge                 0\n",
      "total_eve_minutes                0\n",
      "total_eve_calls                  0\n",
      "total_eve_charge                 0\n",
      "total_night_minutes              0\n",
      "total_night_calls                0\n",
      "total_night_charge               0\n",
      "total_intl_minutes               0\n",
      "total_intl_calls                 0\n",
      "total_intl_charge                0\n",
      "number_customer_service_calls    0\n",
      "dtype: int64\n"
     ]
    }
   ],
   "source": [
    "print(data.isnull().sum())\n"
   ]
  },
  {
   "cell_type": "code",
   "execution_count": 15,
   "id": "ab3b225b",
   "metadata": {},
   "outputs": [],
   "source": [
    "from sklearn.model_selection import train_test_split\n",
    "\n",
    "X = data.drop(columns=[\"total_intl_calls\"])\n",
    "y = data[\"total_intl_calls\"]\n",
    "\n",
    "X_train, X_test, y_train, y_test = train_test_split(X, y, test_size=0.2, random_state=42)\n"
   ]
  },
  {
   "cell_type": "code",
   "execution_count": 16,
   "id": "e107c75e",
   "metadata": {},
   "outputs": [
    {
     "name": "stdout",
     "output_type": "stream",
     "text": [
      "(750, 15) (600, 15) (150, 15)\n"
     ]
    }
   ],
   "source": [
    "print(X.shape, X_train.shape, X_test.shape)"
   ]
  },
  {
   "cell_type": "code",
   "execution_count": 17,
   "id": "512746ea",
   "metadata": {},
   "outputs": [],
   "source": [
    "from sklearn.preprocessing import StandardScaler\n",
    "\n",
    "scaler = StandardScaler()\n",
    "X_train[numerical_features] = scaler.fit_transform(X_train[numerical_features])\n",
    "X_test[numerical_features] = scaler.transform(X_test[numerical_features])\n"
   ]
  },
  {
   "cell_type": "code",
   "execution_count": 18,
   "id": "5e9232c2",
   "metadata": {},
   "outputs": [
    {
     "name": "stderr",
     "output_type": "stream",
     "text": [
      "C:\\Users\\hp\\anaconda3\\lib\\site-packages\\sklearn\\linear_model\\_logistic.py:458: ConvergenceWarning: lbfgs failed to converge (status=1):\n",
      "STOP: TOTAL NO. of ITERATIONS REACHED LIMIT.\n",
      "\n",
      "Increase the number of iterations (max_iter) or scale the data as shown in:\n",
      "    https://scikit-learn.org/stable/modules/preprocessing.html\n",
      "Please also refer to the documentation for alternative solver options:\n",
      "    https://scikit-learn.org/stable/modules/linear_model.html#logistic-regression\n",
      "  n_iter_i = _check_optimize_result(\n"
     ]
    },
    {
     "name": "stdout",
     "output_type": "stream",
     "text": [
      "Model Evaluation Results:\n",
      "Model: Logistic Regression\n",
      "Accuracy: 0.34\n",
      "Precision: 0.17\n",
      "Recall: 0.34\n",
      "F1 Score: 0.21\n",
      "\n",
      "Model: Decision Tree\n",
      "Accuracy: 0.23\n",
      "Precision: 0.23\n",
      "Recall: 0.23\n",
      "F1 Score: 0.23\n",
      "\n",
      "Model: Random Forest\n",
      "Accuracy: 0.33\n",
      "Precision: 0.34\n",
      "Recall: 0.33\n",
      "F1 Score: 0.27\n",
      "\n",
      "Model: Support Vector Machine\n",
      "Accuracy: 0.35\n",
      "Precision: 0.12\n",
      "Recall: 0.35\n",
      "F1 Score: 0.18\n",
      "\n"
     ]
    }
   ],
   "source": [
    "from sklearn.model_selection import train_test_split\n",
    "from sklearn.linear_model import LogisticRegression \n",
    "model = LogisticRegression(max_iter=1000)# Import LogisticRegression\n",
    "from sklearn.tree import DecisionTreeClassifier\n",
    "from sklearn.ensemble import RandomForestClassifier\n",
    "from sklearn.svm import SVC\n",
    "from sklearn.metrics import accuracy_score, precision_score, recall_score, f1_score\n",
    "# Preprocess the categorical variables using one-hot encoding\n",
    "#data = pd.get_dummies(data, columns=[\"Geography\", \"Gender\"])\n",
    "\n",
    "# Split into features (X) and target (y)\n",
    "X = data.drop(\"number_customer_service_calls\", axis=1)\n",
    "y = data[\"number_customer_service_calls\"]\n",
    "\n",
    "# Split into training and testing sets\n",
    "X_train, X_test, y_train, y_test = train_test_split(X, y, test_size=0.2, random_state=42)\n",
    "\n",
    "# Define the models\n",
    "models = {\n",
    "    \"Logistic Regression\": LogisticRegression(max_iter=1000),\n",
    "    \"Decision Tree\": DecisionTreeClassifier(),\n",
    "    \"Random Forest\": RandomForestClassifier(),\n",
    "    \"Support Vector Machine\": SVC()\n",
    "}\n",
    "\n",
    "results = {}\n",
    "\n",
    "for name, model in models.items():\n",
    "    model.fit(X_train, y_train)\n",
    "    y_pred = model.predict(X_test)\n",
    "    \n",
    "    accuracy = accuracy_score(y_test, y_pred)\n",
    "    precision = precision_score(y_test, y_pred, average='weighted', zero_division=0)  # Specify 'weighted' for multiclass\n",
    "    recall = recall_score(y_test, y_pred, average='weighted')  # Specify 'weighted' for multiclass\n",
    "    f1 = f1_score(y_test, y_pred, average='weighted')  # Specify 'weighted' for multiclass\n",
    "    \n",
    "    results[name] = {\"Accuracy\": accuracy, \"Precision\": precision, \"Recall\": recall, \"F1\": f1}\n",
    "\n",
    "# Display evaluation results\n",
    "print(\"Model Evaluation Results:\")\n",
    "for name, metrics in results.items():\n",
    "    print(f\"Model: {name}\")\n",
    "    print(f\"Accuracy: {metrics['Accuracy']:.2f}\")\n",
    "    print(f\"Precision: {metrics['Precision']:.2f}\")\n",
    "    print(f\"Recall: {metrics['Recall']:.2f}\")\n",
    "    print(f\"F1 Score: {metrics['F1']:.2f}\")\n",
    "    print()\n"
   ]
  },
  {
   "cell_type": "code",
   "execution_count": 19,
   "id": "97f66ba4",
   "metadata": {},
   "outputs": [
    {
     "name": "stdout",
     "output_type": "stream",
     "text": [
      "Best Performing Model: Random Forest\n"
     ]
    }
   ],
   "source": [
    "best_model = max(results, key=lambda k: results[k][\"F1\"])\n",
    "print(\"Best Performing Model:\", best_model)\n"
   ]
  },
  {
   "cell_type": "code",
   "execution_count": 20,
   "id": "0c214e99",
   "metadata": {},
   "outputs": [
    {
     "name": "stdout",
     "output_type": "stream",
     "text": [
      "Churn: Yes\n"
     ]
    },
    {
     "name": "stderr",
     "output_type": "stream",
     "text": [
      "C:\\Users\\hp\\anaconda3\\lib\\site-packages\\sklearn\\linear_model\\_logistic.py:458: ConvergenceWarning: lbfgs failed to converge (status=1):\n",
      "STOP: TOTAL NO. of ITERATIONS REACHED LIMIT.\n",
      "\n",
      "Increase the number of iterations (max_iter) or scale the data as shown in:\n",
      "    https://scikit-learn.org/stable/modules/preprocessing.html\n",
      "Please also refer to the documentation for alternative solver options:\n",
      "    https://scikit-learn.org/stable/modules/linear_model.html#logistic-regression\n",
      "  n_iter_i = _check_optimize_result(\n",
      "C:\\Users\\hp\\anaconda3\\lib\\site-packages\\sklearn\\base.py:420: UserWarning: X does not have valid feature names, but LogisticRegression was fitted with feature names\n",
      "  warnings.warn(\n"
     ]
    }
   ],
   "source": [
    "#deployment\n",
    "import numpy as np\n",
    "from sklearn.linear_model import LogisticRegression\n",
    "from sklearn.model_selection import train_test_split\n",
    "\n",
    "# Input data\n",
    "input_data = (15, 28, 57, 123, 6, 58, 26, 17, 19, 38, 17, 17, 12, 12, 15)\n",
    "\n",
    "# Changing the input_data to a numpy array\n",
    "input_data_as_numpy_array = np.asarray(input_data)\n",
    "\n",
    "# Reshape the array as we are predicting for one instance\n",
    "input_data_reshaped = input_data_as_numpy_array.reshape(1, -1)\n",
    "\n",
    "# Assuming you have a DataFrame named 'data' and want to predict 'number_customer_service_calls'\n",
    "# Replace 'X' and 'y' with your actual features and target variable\n",
    "X = data.drop(\"number_customer_service_calls\", axis=1)\n",
    "y = data[\"number_customer_service_calls\"]\n",
    "\n",
    "# Split the data into training and testing sets\n",
    "X_train, X_test, y_train, y_test = train_test_split(X, y, test_size=0.2, random_state=42)\n",
    "\n",
    "# Create and train a Logistic Regression model# Create and train a Logistic Regression model with increased max_iter\n",
    "logistic_regression = LogisticRegression(max_iter=1000)\n",
    "logistic_regression.fit(X_train, y_train)\n",
    "\n",
    "\n",
    "# Now, you can make predictions with the trained model\n",
    "prediction = logistic_regression.predict(input_data_reshaped)\n",
    "\n",
    "if prediction[0] == 0:\n",
    "    print(\"Churn: No\")\n",
    "else:\n",
    "    print(\"Churn: Yes\")\n"
   ]
  },
  {
   "cell_type": "code",
   "execution_count": null,
   "id": "dffb6e19",
   "metadata": {},
   "outputs": [],
   "source": []
  }
 ],
 "metadata": {
  "kernelspec": {
   "display_name": "Python 3 (ipykernel)",
   "language": "python",
   "name": "python3"
  },
  "language_info": {
   "codemirror_mode": {
    "name": "ipython",
    "version": 3
   },
   "file_extension": ".py",
   "mimetype": "text/x-python",
   "name": "python",
   "nbconvert_exporter": "python",
   "pygments_lexer": "ipython3",
   "version": "3.10.9"
  }
 },
 "nbformat": 4,
 "nbformat_minor": 5
}
